{
 "cells": [
  {
   "cell_type": "markdown",
   "metadata": {
    "vscode": {
     "languageId": "plaintext"
    }
   },
   "source": [
    "#### 1. Define un set vacío llamado `mi_set` y luego imprímelo."
   ]
  },
  {
   "cell_type": "code",
   "execution_count": 6,
   "metadata": {},
   "outputs": [
    {
     "name": "stdout",
     "output_type": "stream",
     "text": [
      "set()\n"
     ]
    }
   ],
   "source": [
    "mi_set = set()\n",
    "print(mi_set)"
   ]
  },
  {
   "cell_type": "markdown",
   "metadata": {},
   "source": [
    "#### 2. Añade los números `4`, `5` y `6` al set `mi_set`."
   ]
  },
  {
   "cell_type": "code",
   "execution_count": 8,
   "metadata": {},
   "outputs": [
    {
     "name": "stdout",
     "output_type": "stream",
     "text": [
      "{4, 5, 6}\n"
     ]
    }
   ],
   "source": [
    "mi_set.update([4,5,6])\n",
    "print(mi_set)"
   ]
  },
  {
   "cell_type": "markdown",
   "metadata": {},
   "source": [
    "#### 3. Crea un set llamado `colores` con los siguientes elementos: `\"rojo\"`, `\"verde\"`, `\"azul\"`, `\"amarillo\"`, `\"negro\"` `\"blanco\"`.\n"
   ]
  },
  {
   "cell_type": "code",
   "execution_count": 23,
   "metadata": {},
   "outputs": [
    {
     "name": "stdout",
     "output_type": "stream",
     "text": [
      "{'azul', 'rojo', 'blanco', 'verde', 'negro', 'amarillo'}\n"
     ]
    }
   ],
   "source": [
    "colores ={'rojo','verde','azul','amarillo','negro','blanco'}\n",
    "print(colores)"
   ]
  },
  {
   "cell_type": "markdown",
   "metadata": {},
   "source": [
    "#### 4. Elimina el color 'rojo'  del set `colores`."
   ]
  },
  {
   "cell_type": "code",
   "execution_count": 25,
   "metadata": {},
   "outputs": [
    {
     "name": "stdout",
     "output_type": "stream",
     "text": [
      "{'azul', 'blanco', 'verde', 'negro', 'amarillo'}\n"
     ]
    }
   ],
   "source": [
    "colores.discard('rojo')\n",
    "print(colores)\n"
   ]
  },
  {
   "cell_type": "markdown",
   "metadata": {},
   "source": [
    "#### 5. Verifica si el elemento `\"blanco\"` está presente en el set `colores`."
   ]
  },
  {
   "cell_type": "code",
   "execution_count": 26,
   "metadata": {},
   "outputs": [
    {
     "name": "stdout",
     "output_type": "stream",
     "text": [
      "True\n"
     ]
    }
   ],
   "source": [
    "esta_blanco = \"blanco\" in colores\n",
    "print(esta_blanco)"
   ]
  },
  {
   "cell_type": "markdown",
   "metadata": {},
   "source": [
    "#### 6. Crea un nuevo set que contenga todos los elementos de `set1` y `set2`, sin duplicados.\n",
    "\n",
    "```python\n",
    "set1 = {1, 2, 3}\n",
    "set2 = {3, 4, 5}\n",
    "```"
   ]
  },
  {
   "cell_type": "code",
   "execution_count": 29,
   "metadata": {},
   "outputs": [
    {
     "name": "stdout",
     "output_type": "stream",
     "text": [
      "{1, 2, 3, 4, 5}\n"
     ]
    }
   ],
   "source": [
    "set1 = {1, 2, 3}\n",
    "set2 = {3, 4, 5}\n",
    "unir_sets = set1.union(set2)\n",
    "print(unir_sets)"
   ]
  },
  {
   "cell_type": "markdown",
   "metadata": {},
   "source": [
    "#### 7. Encuentra los elementos comunes entre `setA` y `setB`.\n",
    "\n",
    "```python\n",
    "setA = {1, 2, 3, 4}\n",
    "setB = {3, 4, 5, 6}\n",
    "```"
   ]
  },
  {
   "cell_type": "code",
   "execution_count": 33,
   "metadata": {},
   "outputs": [
    {
     "name": "stdout",
     "output_type": "stream",
     "text": [
      "{3, 4}\n"
     ]
    }
   ],
   "source": [
    "setA = {1, 2, 3, 4}\n",
    "setB = {3, 4, 5, 6}\n",
    "set_comun = setA.intersection(setB)\n",
    "print(set_comun)\n"
   ]
  },
  {
   "cell_type": "markdown",
   "metadata": {},
   "source": [
    "#### 8. Encuentra los elementos en `setX` que no están en `setY`.\n",
    "\n",
    "```python\n",
    "setX = {1, 2, 3, 4}\n",
    "setY = {3, 4, 5, 6}\n",
    "```"
   ]
  },
  {
   "cell_type": "code",
   "execution_count": 34,
   "metadata": {},
   "outputs": [
    {
     "name": "stdout",
     "output_type": "stream",
     "text": [
      "{1, 2}\n"
     ]
    }
   ],
   "source": [
    "setX = {1,2,3,4}\n",
    "setY = {3,4,5,6}\n",
    "elementos_no = setX.difference(setY)\n",
    "print(elementos_no)"
   ]
  },
  {
   "cell_type": "markdown",
   "metadata": {},
   "source": [
    "#### 9. Encuentra los elementos que están en `setP` o `setQ`, pero no en ambos.\n",
    "\n",
    "```python\n",
    "setP = {1, 2, 3, 4}\n",
    "setQ = {3, 4, 5, 6}\n",
    "```"
   ]
  },
  {
   "cell_type": "code",
   "execution_count": 35,
   "metadata": {},
   "outputs": [
    {
     "name": "stdout",
     "output_type": "stream",
     "text": [
      "{1, 2, 5, 6}\n"
     ]
    }
   ],
   "source": [
    "setP = {1, 2, 3, 4}\n",
    "setQ = {3, 4, 5, 6}\n",
    "elementos_sim = setP.symmetric_difference(setQ)\n",
    "print(elementos_sim)"
   ]
  },
  {
   "cell_type": "markdown",
   "metadata": {},
   "source": [
    "#### 10. Comprueba si `setA` es un subconjunto de `setB`.\n",
    "\n",
    "```python\n",
    "setA = {1, 2, 3}\n",
    "setB = {1, 2, 3, 4, 5}\n",
    "```"
   ]
  },
  {
   "cell_type": "code",
   "execution_count": 36,
   "metadata": {},
   "outputs": [
    {
     "name": "stdout",
     "output_type": "stream",
     "text": [
      "True\n"
     ]
    }
   ],
   "source": [
    "setA = {1, 2, 3}\n",
    "setB = {1, 2, 3, 4, 5}\n",
    "subconjunto = setA.issubset(setB)\n",
    "print(subconjunto)"
   ]
  },
  {
   "cell_type": "markdown",
   "metadata": {},
   "source": [
    "#### 11. Comprueba si `setM` y `setN` no tienen elementos en común.\n",
    "\n",
    "```python\n",
    "setM = {1, 2, 3}\n",
    "setN = {4, 5, 6}\n",
    "```"
   ]
  },
  {
   "cell_type": "code",
   "execution_count": 37,
   "metadata": {},
   "outputs": [
    {
     "name": "stdout",
     "output_type": "stream",
     "text": [
      "True\n"
     ]
    }
   ],
   "source": [
    "setM = {1, 2, 3}\n",
    "setN = {4, 5, 6}\n",
    "elementos_comun = setM.isdisjoint(setN)\n",
    "print(elementos_comun)"
   ]
  },
  {
   "cell_type": "markdown",
   "metadata": {},
   "source": [
    "#### 12. Vacía el set `conjunto` de manera que no contenga ningún elemento.\n",
    "\n",
    "```python\n",
    "conjunto = {1, 2, 3, 4, 5}\n",
    "```"
   ]
  },
  {
   "cell_type": "code",
   "execution_count": 44,
   "metadata": {},
   "outputs": [
    {
     "name": "stdout",
     "output_type": "stream",
     "text": [
      "set()\n"
     ]
    }
   ],
   "source": [
    "conjunto = {1, 2, 3, 4, 5}\n",
    "conjunto.clear()\n",
    "print(conjunto)"
   ]
  },
  {
   "cell_type": "markdown",
   "metadata": {},
   "source": [
    "#### 13. Crea un set llamado `numeros_set` que contenga los elementos de `lista_numeros`.\n",
    "\n",
    "```python\n",
    "lista_numeros = [1, 2, 3, 4, 5]\n",
    "```\n"
   ]
  },
  {
   "cell_type": "code",
   "execution_count": 46,
   "metadata": {},
   "outputs": [],
   "source": [
    "lista_numeros = [1, 2, 3, 4, 5]\n",
    "numeros_set = set(lista_numeros)"
   ]
  },
  {
   "cell_type": "markdown",
   "metadata": {},
   "source": [
    "#### 14. Añade las letras `\"o\"` y `\"u\"` al set `vocales`.\n",
    "\n",
    "```python\n",
    "vocales = {\"a\", \"e\", \"i\"}\n",
    "```"
   ]
  },
  {
   "cell_type": "code",
   "execution_count": 50,
   "metadata": {},
   "outputs": [
    {
     "name": "stdout",
     "output_type": "stream",
     "text": [
      "{'u', 'e', 'o', 'a', 'i'}\n"
     ]
    }
   ],
   "source": [
    "vocales = {\"a\",\"e\", \"i\"}\n",
    "vocales.add(\"o\")\n",
    "vocales.add(\"u\")\n",
    "print(vocales)"
   ]
  },
  {
   "cell_type": "markdown",
   "metadata": {},
   "source": [
    "#### 15. Combina `setA` y `setB` utilizando el método `update` para modificar `setA` y agregar los elementos de `setB`.\n",
    "\n",
    "```python\n",
    "setA = {1, 2, 3}\n",
    "setB = {3, 4, 5}\n",
    "```"
   ]
  },
  {
   "cell_type": "code",
   "execution_count": 51,
   "metadata": {},
   "outputs": [
    {
     "name": "stdout",
     "output_type": "stream",
     "text": [
      "{1, 2, 3, 4, 5}\n"
     ]
    }
   ],
   "source": [
    "setA = {1, 2, 3}\n",
    "setB = {3, 4, 5}\n",
    "setA.update(setB)\n",
    "print(setA)\n"
   ]
  },
  {
   "cell_type": "markdown",
   "metadata": {},
   "source": [
    "#### 16. Elimina `\"conejo\"` del set `animales`.\n",
    "\n",
    "```python\n",
    "animales = {\"gato\", \"perro\", \"conejo\", \"ratón\"}\n",
    "```\n"
   ]
  },
  {
   "cell_type": "code",
   "execution_count": 53,
   "metadata": {},
   "outputs": [
    {
     "name": "stdout",
     "output_type": "stream",
     "text": [
      "{'ratón', 'gato', 'perro'}\n"
     ]
    }
   ],
   "source": [
    "animales = {\"gato\", \"perro\", \"conejo\", \"ratón\"}\n",
    "animales.remove(\"conejo\")\n",
    "print(animales)"
   ]
  },
  {
   "cell_type": "markdown",
   "metadata": {},
   "source": [
    "#### 17. Calcula cuántos elementos tiene el set `setX` e imprime el resultado.\n",
    "\n",
    "```python\n",
    "setX = {1, 2, 3, 4, 5}\n",
    "```"
   ]
  },
  {
   "cell_type": "code",
   "execution_count": 55,
   "metadata": {},
   "outputs": [
    {
     "name": "stdout",
     "output_type": "stream",
     "text": [
      "5\n"
     ]
    }
   ],
   "source": [
    "setX = {1, 2, 3, 4, 5}\n",
    "elementos_set = len(setX)\n",
    "print(elementos_set)\n"
   ]
  }
 ],
 "metadata": {
  "kernelspec": {
   "display_name": "hackio",
   "language": "python",
   "name": "python3"
  },
  "language_info": {
   "codemirror_mode": {
    "name": "ipython",
    "version": 3
   },
   "file_extension": ".py",
   "mimetype": "text/x-python",
   "name": "python",
   "nbconvert_exporter": "python",
   "pygments_lexer": "ipython3",
   "version": "3.12.4"
  }
 },
 "nbformat": 4,
 "nbformat_minor": 2
}
