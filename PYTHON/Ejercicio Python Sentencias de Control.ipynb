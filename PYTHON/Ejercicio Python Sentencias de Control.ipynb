{
 "cells": [
  {
   "cell_type": "markdown",
   "metadata": {},
   "source": [
    "<div style=\"text-align: center;\">\n",
    "  <img src=\"https://github.com/Hack-io-Data/Imagenes/blob/main/01-LogosHackio/logo_celeste@4x.png?raw=true\" alt=\"logo hack(io)\" />\n",
    "</div>"
   ]
  },
  {
   "cell_type": "markdown",
   "metadata": {},
   "source": [
    "#### 1. Escribe un programa que determine si un número es par o impar.\n",
    "\n"
   ]
  },
  {
   "cell_type": "code",
   "execution_count": 45,
   "metadata": {},
   "outputs": [
    {
     "name": "stdout",
     "output_type": "stream",
     "text": [
      "El número es impar\n"
     ]
    }
   ],
   "source": [
    "def determinar_par_o_impar(numero):\n",
    "    if numero % 2 == 0:\n",
    "        return \"El número es par\"\n",
    "    else:\n",
    "        return \"El número es impar\"\n",
    "try:\n",
    "    numero = int(input(\"Introduce un número: \"))\n",
    "    resultado = determinar_par_o_impar(numero)\n",
    "    print(resultado)\n",
    "except ValueError:\n",
    "    print(\"Por favor, introduce un número entero válido.\")\n",
    "\n",
    "\n"
   ]
  },
  {
   "cell_type": "markdown",
   "metadata": {},
   "source": [
    "#### 2. Genera un programa que nos diga si es de noche, de día o tarde según la hora proporcionada por el usuario."
   ]
  },
  {
   "cell_type": "code",
   "execution_count": 46,
   "metadata": {},
   "outputs": [
    {
     "name": "stdout",
     "output_type": "stream",
     "text": [
      "Por favor, introduce una hora válida en formato entero.\n"
     ]
    }
   ],
   "source": [
    "def determinar_periodo_dia(hora):\n",
    "    \n",
    "    if 0 <= hora < 6:\n",
    "        return \"Es de noche\"\n",
    "    elif 6 <= hora < 12:\n",
    "        return \"Es de día\"\n",
    "    elif 12 <= hora < 18:\n",
    "        return \"Es de tarde\"\n",
    "    elif 18 <= hora < 24:\n",
    "        return \"Es de noche\"\n",
    "    else:\n",
    "        return \"Hora inválida\"\n",
    "    \n",
    "try:\n",
    "    hora = int(input(\"Introduce la hora en formato de 24 horas (0-23): \"))\n",
    "    periodo = determinar_periodo_dia(hora)\n",
    "    print(periodo)\n",
    "except ValueError:\n",
    "    print(\"Por favor, introduce una hora válida en formato entero.\")"
   ]
  },
  {
   "cell_type": "markdown",
   "metadata": {},
   "source": [
    "#### 3. Dado un nombre imprime un saludo personalizado."
   ]
  },
  {
   "cell_type": "code",
   "execution_count": 47,
   "metadata": {},
   "outputs": [
    {
     "name": "stdout",
     "output_type": "stream",
     "text": [
      "Hola que tal quique! en que te puedo ayudar?\n"
     ]
    }
   ],
   "source": [
    "def saludo_personalizado(nombre):\n",
    "    return f\"Hola que tal {nombre}! en que te puedo ayudar?\"\n",
    "nombre = input(\"Introduce tu nombre: \")\n",
    "saludo = saludo_personalizado(nombre)\n",
    "print(saludo)\n",
    "\n"
   ]
  },
  {
   "cell_type": "markdown",
   "metadata": {},
   "source": [
    "#### 4. Escribe un programa que determine qué calificación en texto tiene un alumno en base a su calificación numérica. Las reglas de calificación son: \n",
    "\n",
    "- 0 - 69 insuficiente\n",
    "\n",
    "- 70 - 79 bien\n",
    "\n",
    "- 80 - 89 muy bien\n",
    "\n",
    "- 90 - 100 excelente\n"
   ]
  },
  {
   "cell_type": "code",
   "execution_count": 48,
   "metadata": {},
   "outputs": [
    {
     "name": "stdout",
     "output_type": "stream",
     "text": [
      "Tu nota es: Insuficiente\n"
     ]
    }
   ],
   "source": [
    "def calificacion_texto(nota):\n",
    "    \n",
    "    if 0 <= nota <= 69:\n",
    "        return \"Insuficiente\"\n",
    "    elif 70 <= nota <= 79:\n",
    "        return \"Bien\"\n",
    "    elif 80 <= nota <= 89:\n",
    "        return \"Muy bien\"\n",
    "    elif 90 <= nota <= 100:\n",
    "        return \"Excelente\"\n",
    "    else:\n",
    "        return \"Calificación inválida. Debe estar entre 0 y 100.\"\n",
    "\n",
    "try:\n",
    "    nota = float(input(\"Introduce tu nota (0-100): \"))\n",
    "    resultado = calificacion_texto(nota)\n",
    "    print(f\"Tu nota es: {resultado}\")\n",
    "except ValueError:\n",
    "    print(\"Por favor, introduce una calificación numérica válida.\")\n",
    "    \n",
    "\n",
    "    \n",
    "\n"
   ]
  },
  {
   "cell_type": "markdown",
   "metadata": {},
   "source": [
    "#### 5. Escribe un programa que imprima el día de la semana, dado un número del 1 al 7.\n"
   ]
  },
  {
   "cell_type": "code",
   "execution_count": 49,
   "metadata": {},
   "outputs": [
    {
     "name": "stdout",
     "output_type": "stream",
     "text": [
      "El día de la semana es: Viernes\n"
     ]
    }
   ],
   "source": [
    "def dia_de_la_semana(numero):\n",
    "\n",
    "    dias = {\n",
    "        1: \"Lunes\",\n",
    "        2: \"Martes\",\n",
    "        3: \"Miércoles\",\n",
    "        4: \"Jueves\",\n",
    "        5: \"Viernes\",\n",
    "        6: \"Sábado\",\n",
    "        7: \"Domingo\"\n",
    "    }\n",
    "    return dias.get(numero, \"Número inválido. Debe estar entre 1 y 7.\")\n",
    "\n",
    "try:\n",
    "    numero = int(input(\"Introduce un número del 1 al 7 para obtener el día de la semana: \"))\n",
    "    resultado = dia_de_la_semana(numero)\n",
    "    print(f\"El día de la semana es: {resultado}\")\n",
    "except ValueError:\n",
    "    print(\"Por favor, introduce un número entero válido.\")\n",
    "\n"
   ]
  },
  {
   "cell_type": "markdown",
   "metadata": {},
   "source": [
    "#### 6. Escribe un programa que determine si un número es positivo, negativo o cero."
   ]
  },
  {
   "cell_type": "code",
   "execution_count": 50,
   "metadata": {},
   "outputs": [
    {
     "name": "stdout",
     "output_type": "stream",
     "text": [
      "El número es positivo.\n"
     ]
    }
   ],
   "source": [
    "def clasificar_numero(numero):\n",
    "   \n",
    "    if numero > 0:\n",
    "        return \"El número es positivo.\"\n",
    "    elif numero < 0:\n",
    "        return \"El número es negativo.\"\n",
    "    else:\n",
    "        return \"El número es cero.\"\n",
    "\n",
    "try:\n",
    "    numero = float(input(\"Introduce un número: \"))  \n",
    "    resultado = clasificar_numero(numero)\n",
    "    print(resultado)\n",
    "except ValueError:\n",
    "    print(\"Por favor, introduce un número válido.\")\n"
   ]
  },
  {
   "cell_type": "markdown",
   "metadata": {},
   "source": [
    "#### 7. Escribe un programa que determine si una persona puede conducir o no. La edad mínima para conducir es 18 años. \n"
   ]
  },
  {
   "cell_type": "code",
   "execution_count": 55,
   "metadata": {},
   "outputs": [
    {
     "name": "stdout",
     "output_type": "stream",
     "text": [
      "Por favor, introduce una edad válida (número entero).\n"
     ]
    }
   ],
   "source": [
    "def conduce_o_no(edad):\n",
    "    \n",
    "    if edad >= 18:\n",
    "        return \"Puedes conducir.\"\n",
    "    else:\n",
    "        return \"No puedes conducir. La edad mínima es 18 años.\"\n",
    "\n",
    "# Solicitar entrada del usuario\n",
    "try:\n",
    "    edad = int(input(\"Introduce tu edad: \"))  \n",
    "    resultado = conduce_o_no(edad)\n",
    "    print(resultado)\n",
    "except ValueError:\n",
    "    print(\"Por favor, introduce una edad válida (número entero).\")\n",
    "\n",
    "    "
   ]
  },
  {
   "cell_type": "markdown",
   "metadata": {},
   "source": [
    "#### 8. Escribe un programa que determine si un estudiante aprobó o suspendió un examen."
   ]
  },
  {
   "cell_type": "code",
   "execution_count": 65,
   "metadata": {},
   "outputs": [
    {
     "name": "stdout",
     "output_type": "stream",
     "text": [
      "El estudiante ha Suspendido.\n"
     ]
    }
   ],
   "source": [
    "def estado_examen(calificacion):\n",
    "    \n",
    "    if 0 <= calificacion <= 10: \n",
    "        if calificacion >= 5:\n",
    "            return \"Aprobado\"\n",
    "        else:\n",
    "            return \"Suspendido\"\n",
    "    else:\n",
    "        return \"Calificación inválida. Debe estar entre 0 y 10.\"\n",
    "\n",
    "try:\n",
    "    calificacion = float(input(\"Introduce la calificación del estudiante (0-10): \"))  \n",
    "    resultado = estado_examen(calificacion)\n",
    "    print(f\"El estudiante ha {resultado}.\")\n",
    "except ValueError:\n",
    "    print(\"Por favor, introduce una calificación válida (número).\")\n",
    "\n"
   ]
  },
  {
   "cell_type": "markdown",
   "metadata": {},
   "source": [
    "#### 9. Escribe un programa que determine si un número es múltiplo de 3 y 5.\n"
   ]
  },
  {
   "cell_type": "code",
   "execution_count": 75,
   "metadata": {},
   "outputs": [
    {
     "name": "stdout",
     "output_type": "stream",
     "text": [
      "El número es múltiplo de 3 y 5.\n"
     ]
    }
   ],
   "source": [
    "def es_multiplo(numero, divisor):\n",
    "  \n",
    "      return numero % divisor == 0\n",
    "\n",
    "def verificar_multiplos(numero):\n",
    "    \n",
    "    es_multiplo_3 = es_multiplo(numero, 3)\n",
    "    es_multiplo_5 = es_multiplo(numero, 5)\n",
    "    \n",
    "    if es_multiplo_3 and es_multiplo_5:\n",
    "        return \"El número es múltiplo de 3 y 5.\"\n",
    "    elif es_multiplo_3:\n",
    "        return \"El número es múltiplo de 3.\"\n",
    "    elif es_multiplo_5:\n",
    "        return \"El número es múltiplo de 5.\"\n",
    "    else:\n",
    "        return \"El número no es múltiplo de 3 ni de 5.\"\n",
    "\n",
    "try:\n",
    "    numero = int(input(\"Introduce un número: \"))  \n",
    "    resultado = verificar_multiplos(numero)\n",
    "    print(resultado)\n",
    "except ValueError:\n",
    "    print(\"Por favor, introduce un número  válido.\")\n",
    "\n",
    "    \n",
    "    "
   ]
  }
 ],
 "metadata": {
  "kernelspec": {
   "display_name": "hackio",
   "language": "python",
   "name": "python3"
  },
  "language_info": {
   "codemirror_mode": {
    "name": "ipython",
    "version": 3
   },
   "file_extension": ".py",
   "mimetype": "text/x-python",
   "name": "python",
   "nbconvert_exporter": "python",
   "pygments_lexer": "ipython3",
   "version": "3.12.4"
  }
 },
 "nbformat": 4,
 "nbformat_minor": 2
}
