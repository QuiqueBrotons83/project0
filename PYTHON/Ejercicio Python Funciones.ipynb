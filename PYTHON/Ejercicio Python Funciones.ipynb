{
 "cells": [
  {
   "cell_type": "markdown",
   "metadata": {},
   "source": [
    "\n",
    "<div style=\"text-align: center;\">\n",
    "  <img src=\"https://github.com/Hack-io-Data/Imagenes/blob/main/01-LogosHackio/logo_celeste@4x.png?raw=true\" alt=\"esquema\" />\n",
    "</div>"
   ]
  },
  {
   "cell_type": "markdown",
   "metadata": {},
   "source": [
    "#### 1. Escribe una función sin parámetros que imprima el siguiente mensaje \"¡Hola! Bienvenido.\"\n"
   ]
  },
  {
   "cell_type": "code",
   "execution_count": 4,
   "metadata": {},
   "outputs": [
    {
     "name": "stdout",
     "output_type": "stream",
     "text": [
      "¡Hola! Bienvenido.\n"
     ]
    }
   ],
   "source": [
    "def imprimir_mensaje():\n",
    "    print(\"¡Hola! Bienvenido.\")\n",
    "\n",
    "imprimir_mensaje()\n"
   ]
  },
  {
   "cell_type": "markdown",
   "metadata": {},
   "source": [
    "#### 2. Escribe una función que reciba dos parámetros y devuelva la suma de ambos.\n"
   ]
  },
  {
   "cell_type": "code",
   "execution_count": 7,
   "metadata": {},
   "outputs": [
    {
     "name": "stdout",
     "output_type": "stream",
     "text": [
      "13\n"
     ]
    }
   ],
   "source": [
    "def sumar_numeros(x, y):\n",
    "       return x + y\n",
    "\n",
    "resultado = sumar_numeros(4, 9)\n",
    "print(resultado)\n",
    "    "
   ]
  },
  {
   "cell_type": "markdown",
   "metadata": {},
   "source": [
    "#### 3. Escribe una función que reciba un número y devuelva True si es par, False si no lo es."
   ]
  },
  {
   "cell_type": "code",
   "execution_count": 16,
   "metadata": {},
   "outputs": [
    {
     "name": "stdout",
     "output_type": "stream",
     "text": [
      "True\n"
     ]
    }
   ],
   "source": [
    "def introduce_numero(numero):\n",
    "  \n",
    "    return numero % 2 == 0\n",
    "\n",
    "numero = 1326489168\n",
    "resultado = introduce_numero(numero)\n",
    "print(resultado)\n"
   ]
  },
  {
   "cell_type": "markdown",
   "metadata": {},
   "source": [
    "#### 4. Escribe un función que devuelva un saludo personalizado a una persona dado su nombre. \n"
   ]
  },
  {
   "cell_type": "code",
   "execution_count": 19,
   "metadata": {},
   "outputs": [
    {
     "name": "stdout",
     "output_type": "stream",
     "text": [
      "Eyyyy, Gala! ¿Que tal?\n"
     ]
    }
   ],
   "source": [
    "def saludo_nombre(nombre):\n",
    "    \n",
    "    return f\"Eyyyy, {nombre}! ¿Que tal?\"\n",
    "\n",
    "nombre = \"Gala\"\n",
    "saludo = saludo_nombre(nombre)\n",
    "print(saludo)\n"
   ]
  },
  {
   "cell_type": "markdown",
   "metadata": {},
   "source": [
    "#### 5. Escribe una función que sume todos los números que reciba como argumento. La función debe recibir una cantidad variable de argumentos y devolver la suma de todos ellos."
   ]
  },
  {
   "cell_type": "code",
   "execution_count": 23,
   "metadata": {},
   "outputs": [
    {
     "name": "stdout",
     "output_type": "stream",
     "text": [
      "La suma es: 107\n"
     ]
    }
   ],
   "source": [
    "def sumame_numeros(*args):\n",
    "    \n",
    "    return sum(args)\n",
    "\n",
    "resultado = sumame_numeros(13, 4, 69, 22, -1)\n",
    "print(\"La suma es:\", resultado)\n",
    "\n",
    "\n"
   ]
  },
  {
   "cell_type": "markdown",
   "metadata": {},
   "source": [
    "#### 6. Escribe una función que cuente las letras de una palabra y devuelva un diccionario con la cantidad de veces que se repite cada letra \n"
   ]
  },
  {
   "cell_type": "code",
   "execution_count": 33,
   "metadata": {},
   "outputs": [
    {
     "name": "stdout",
     "output_type": "stream",
     "text": [
      "{'s': 4, 'u': 1, 'p': 2, 'e': 2, 'r': 2, 'c': 2, 'a': 3, 'l': 3, 'i': 6, 'f': 1, 'g': 1, 't': 1, 'o': 3, 'd': 1}\n"
     ]
    }
   ],
   "source": [
    "def cuenta_letras(palabra):\n",
    "    \n",
    "    cuenta = {}\n",
    "    \n",
    "    for letra in palabra:\n",
    "        letra = letra.lower()\n",
    "        \n",
    "        if letra in cuenta:\n",
    "            cuenta[letra] += 1\n",
    "        else:\n",
    "            cuenta[letra] = 1\n",
    "    \n",
    "    return cuenta\n",
    "\n",
    "palabra = \"supercalifragilisticoespialidoso\"\n",
    "resultado = cuenta_letras(palabra)\n",
    "print(resultado)\n"
   ]
  },
  {
   "cell_type": "markdown",
   "metadata": {},
   "source": [
    "#### 7. Escribe un función recursiva para calcular el factorial de un número entero no negativo."
   ]
  },
  {
   "cell_type": "code",
   "execution_count": 41,
   "metadata": {},
   "outputs": [
    {
     "name": "stdout",
     "output_type": "stream",
     "text": [
      "24\n"
     ]
    }
   ],
   "source": [
    "def calculo_factorial(n):\n",
    "    \n",
    "    \n",
    "    if n < 0:\n",
    "        raise ValueError(\"El número debe ser entero no negativo\")\n",
    "    \n",
    "    if n == 0 or n == 1:\n",
    "        return 1\n",
    "    \n",
    "    return n * calculo_factorial(n - 1)\n",
    "\n",
    "numero = 4\n",
    "resultado = calculo_factorial(numero)\n",
    "print(resultado)\n"
   ]
  },
  {
   "cell_type": "markdown",
   "metadata": {},
   "source": [
    "#### 8. Escribe una función que tome dos parámetros: `figura` (una cadena que puede ser `\"rectangulo\"`, `\"circulo\"` o `\"triangulo\"`) y `datos` (una tupla con los datos necesarios para calcular el área de la figura). "
   ]
  },
  {
   "cell_type": "code",
   "execution_count": 42,
   "metadata": {},
   "outputs": [
    {
     "name": "stdout",
     "output_type": "stream",
     "text": [
      "Área del rectángulo: 50\n",
      "Área del círculo: 147\n",
      "Área del triángulo: 24.0\n"
     ]
    }
   ],
   "source": [
    "def calcular_area(figura, datos):\n",
    "    \n",
    "    numero = 3  \n",
    "    \n",
    "    if figura == \"rectangulo\":\n",
    "        if len(datos) != 2:\n",
    "            raise ValueError(\"Para un rectángulo se necesitan dos datos: base y altura.\")\n",
    "        base, altura = datos\n",
    "        return base * altura\n",
    "    \n",
    "    elif figura == \"circulo\":\n",
    "        if len(datos) != 1:\n",
    "            raise ValueError(\"Para un círculo se necesita un dato: radio.\")\n",
    "        radio, = datos\n",
    "        return numero * radio ** 2\n",
    "    \n",
    "    elif figura == \"triangulo\":\n",
    "        if len(datos) != 2:\n",
    "            raise ValueError(\"Para un triángulo se necesitan dos datos: base y altura.\")\n",
    "        base, altura = datos\n",
    "        return (base * altura) / 2\n",
    "    \n",
    "    else:\n",
    "        raise ValueError(\"Tipo de figura no válido. Debe ser 'rectangulo', 'circulo' o 'triangulo'.\")\n",
    "\n",
    "try:\n",
    "    area_rectangulo = calcular_area(\"rectangulo\", (5, 10))\n",
    "    print(f\"Área del rectángulo: {area_rectangulo}\")\n",
    "    \n",
    "    area_circulo = calcular_area(\"circulo\", (7,))\n",
    "    print(f\"Área del círculo: {area_circulo}\")\n",
    "    \n",
    "    area_triangulo = calcular_area(\"triangulo\", (6, 8))\n",
    "    print(f\"Área del triángulo: {area_triangulo}\")\n",
    "    \n",
    "except ValueError as e:\n",
    "    print(e)\n"
   ]
  },
  {
   "cell_type": "markdown",
   "metadata": {},
   "source": [
    "#### 9. Escribe una función que tome una lista de números como parámetro y devuelva el número más grande de la lista. No utilices la función `max()` de Python en tu solución."
   ]
  },
  {
   "cell_type": "code",
   "execution_count": 47,
   "metadata": {},
   "outputs": [
    {
     "name": "stdout",
     "output_type": "stream",
     "text": [
      "El número más grande en la lista es: 152\n"
     ]
    }
   ],
   "source": [
    "def numeros_parametro(lista):\n",
    "    \n",
    "    if not lista:\n",
    "        raise ValueError(\"La lista está vacía. No se puede encontrar el número más grande.\")\n",
    "\n",
    "    numero_mas_grande = lista[0]\n",
    "    \n",
    "    for numero in lista:\n",
    "        if numero > numero_mas_grande:\n",
    "            numero_mas_grande = numero\n",
    "    \n",
    "    return numero_mas_grande\n",
    "\n",
    "numeros = [49,-5,152,99,4,61]\n",
    "resultado = numeros_parametro(numeros)\n",
    "print(f\"El número más grande en la lista es: {resultado}\")\n"
   ]
  },
  {
   "cell_type": "markdown",
   "metadata": {},
   "source": [
    "#### 10. Escribe una función que tome una cadena como parámetro un texto y devuelva `True` si la cadena es un palíndromo (se lee igual de izquierda a derecha que de derecha a izquierda), y `False` en caso contrario. Ignora los espacios y considera mayúsculas y minúsculas de manera insensible.\n"
   ]
  },
  {
   "cell_type": "code",
   "execution_count": 59,
   "metadata": {},
   "outputs": [
    {
     "name": "stdout",
     "output_type": "stream",
     "text": [
      "True\n",
      "False\n"
     ]
    }
   ],
   "source": [
    "def palíndromo(texto):\n",
    "   \n",
    "    texto_limpio = ''.join(texto.split()).lower()\n",
    "    \n",
    "    return texto_limpio == texto_limpio[::-1]\n",
    "\n",
    "frase1 = \"No lemon, no melon\"\n",
    "frase2= \"Esta frase no es sefra\"\n",
    "\n",
    "print(palíndromo(frase1))\n",
    "print(palíndromo(frase2))\n",
    "\n"
   ]
  },
  {
   "cell_type": "markdown",
   "metadata": {},
   "source": [
    "#### 11. Escribe una función que tome una cadena como parámetro y devuelva dos valores: la cantidad de vocales y la cantidad de consonantes presentes en la cadena. Ignora los espacios y considera mayúsculas y minúsculas de manera insensible.\n"
   ]
  },
  {
   "cell_type": "code",
   "execution_count": 73,
   "metadata": {},
   "outputs": [
    {
     "name": "stdout",
     "output_type": "stream",
     "text": [
      "Hay 20 vocales y 26 consonantes.\n"
     ]
    }
   ],
   "source": [
    "def valores_vocales_consonantes(cadena):\n",
    "    \n",
    "    vocales = 'aeiou'\n",
    "    cadena = cadena.lower().replace(\" \", \"\")  \n",
    "    contador_vocales = 0\n",
    "    contador_consonantes = 0\n",
    "    \n",
    "    for letras in cadena:\n",
    "        if letras in vocales:\n",
    "            contador_vocales += 1\n",
    "        elif letras.isalpha():  \n",
    "            contador_consonantes += 1\n",
    "            \n",
    "    return contador_vocales, contador_consonantes\n",
    "\n",
    "cadena = \"Esto es una prueba de contador de vocales y consonantes\"\n",
    "vocales, consonantes = valores_vocales_consonantes(cadena)\n",
    "print(f\"Hay {vocales} vocales y {consonantes} consonantes.\")\n"
   ]
  }
 ],
 "metadata": {
  "kernelspec": {
   "display_name": "hackio",
   "language": "python",
   "name": "python3"
  },
  "language_info": {
   "codemirror_mode": {
    "name": "ipython",
    "version": 3
   },
   "file_extension": ".py",
   "mimetype": "text/x-python",
   "name": "python",
   "nbconvert_exporter": "python",
   "pygments_lexer": "ipython3",
   "version": "3.12.4"
  }
 },
 "nbformat": 4,
 "nbformat_minor": 2
}
