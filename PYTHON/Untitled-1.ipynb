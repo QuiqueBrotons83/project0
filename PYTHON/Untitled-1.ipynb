{
 "cells": [
  {
   "cell_type": "code",
   "execution_count": 4,
   "metadata": {},
   "outputs": [],
   "source": [
    "lista_alumnos = [\"Claudia\",\"Victor\",\"Miguel\", \"Laura\",\"Nelson\"]\n"
   ]
  },
  {
   "cell_type": "code",
   "execution_count": 3,
   "metadata": {},
   "outputs": [
    {
     "data": {
      "text/plain": [
       "'Victor'"
      ]
     },
     "execution_count": 3,
     "metadata": {},
     "output_type": "execute_result"
    }
   ],
   "source": [
    "lista_alumnos[1]"
   ]
  },
  {
   "cell_type": "code",
   "execution_count": 6,
   "metadata": {},
   "outputs": [
    {
     "data": {
      "text/plain": [
       "['Victor', 'Miguel', 'Laura']"
      ]
     },
     "execution_count": 6,
     "metadata": {},
     "output_type": "execute_result"
    }
   ],
   "source": [
    "lista_alumnos[1:4]"
   ]
  },
  {
   "cell_type": "code",
   "execution_count": 7,
   "metadata": {},
   "outputs": [
    {
     "data": {
      "text/plain": [
       "['Victor', 'Laura']"
      ]
     },
     "execution_count": 7,
     "metadata": {},
     "output_type": "execute_result"
    }
   ],
   "source": [
    "lista_alumnos[1:4:2]"
   ]
  },
  {
   "cell_type": "code",
   "execution_count": 9,
   "metadata": {},
   "outputs": [
    {
     "name": "stdout",
     "output_type": "stream",
     "text": [
      "Claudia\n",
      "Victor\n",
      "Miguel\n",
      "Laura\n",
      "Nelson\n"
     ]
    }
   ],
   "source": [
    "for nombre in lista_alumnos:\n",
    "    print(nombre)"
   ]
  },
  {
   "cell_type": "code",
   "execution_count": 12,
   "metadata": {},
   "outputs": [
    {
     "ename": "NameError",
     "evalue": "name 'indice' is not defined",
     "output_type": "error",
     "traceback": [
      "\u001b[1;31m---------------------------------------------------------------------------\u001b[0m",
      "\u001b[1;31mNameError\u001b[0m                                 Traceback (most recent call last)",
      "Cell \u001b[1;32mIn[12], line 1\u001b[0m\n\u001b[1;32m----> 1\u001b[0m \u001b[38;5;28;01mfor\u001b[39;00m \u001b[43mindice\u001b[49m\u001b[38;5;241m.\u001b[39m nombre \u001b[38;5;129;01min\u001b[39;00m \u001b[38;5;28menumerate\u001b[39m(lista_alumnos):\n\u001b[0;32m      2\u001b[0m     \u001b[38;5;28mprint\u001b[39m (lista_alumnos)\n",
      "\u001b[1;31mNameError\u001b[0m: name 'indice' is not defined"
     ]
    }
   ],
   "source": [
    "for indice. nombre in enumerate(lista_alumnos):\n",
    "    print (lista_alumnos)"
   ]
  },
  {
   "cell_type": "code",
   "execution_count": 14,
   "metadata": {},
   "outputs": [
    {
     "name": "stdout",
     "output_type": "stream",
     "text": [
      "0 ['Claudia', 'Victor', 'Miguel', 'Laura', 'Nelson']\n",
      "1 ['Claudia', 'Victor', 'Miguel', 'Laura', 'Nelson']\n",
      "2 ['Claudia', 'Victor', 'Miguel', 'Laura', 'Nelson']\n",
      "3 ['Claudia', 'Victor', 'Miguel', 'Laura', 'Nelson']\n",
      "4 ['Claudia', 'Victor', 'Miguel', 'Laura', 'Nelson']\n"
     ]
    }
   ],
   "source": [
    "for indice, nombre in enumerate(lista_alumnos):\n",
    "    print (indice, lista_alumnos)"
   ]
  }
 ],
 "metadata": {
  "kernelspec": {
   "display_name": "Python 3",
   "language": "python",
   "name": "python3"
  },
  "language_info": {
   "codemirror_mode": {
    "name": "ipython",
    "version": 3
   },
   "file_extension": ".py",
   "mimetype": "text/x-python",
   "name": "python",
   "nbconvert_exporter": "python",
   "pygments_lexer": "ipython3",
   "version": "3.12.4"
  }
 },
 "nbformat": 4,
 "nbformat_minor": 2
}
