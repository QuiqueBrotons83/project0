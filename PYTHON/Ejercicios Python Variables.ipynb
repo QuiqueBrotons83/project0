{
 "cells": [
  {
   "cell_type": "markdown",
   "metadata": {},
   "source": [
    "<div style=\"text-align: center;\">\n",
    "  <img src=\"https://github.com/Hack-io-Data/Imagenes/blob/main/01-LogosHackio/logo_celeste@4x.png?raw=true\" alt=\"logo hack(io)\" />\n",
    "</div>"
   ]
  },
  {
   "cell_type": "markdown",
   "metadata": {},
   "source": [
    "## Tipos de datos\n",
    "\n",
    "Es esencial comprender los distintos tipos de datos en Python, como enteros, flotantes, cadenas de texto, booleanos, listas, tuplas y diccionarios. Este conocimiento es fundamental para el diseño de algoritmos, ya que los tipos de datos determinan cómo se almacenan y procesan los datos en la memoria.\n",
    "\n",
    "En esta batería de ejercicios, exploraremos los tipos de datos en Python y cómo utilizarlos eficientemente. Desde los conceptos básicos hasta los más avanzados, esta serie de ejercicios está diseñada para mejorar las habilidades de programación en Python y profundizar la comprensión de los tipos de datos, esencial para desarrollar aplicaciones de calidad y eficientes."
   ]
  },
  {
   "cell_type": "markdown",
   "metadata": {},
   "source": [
    "### Ejercicio 1: Operaciones aritméticas con números complejos\n",
    "\n",
    "1-Declara dos variables `numero1` y `numero2` y asigna a ellas valores numéricos complejos.\n",
    "\n",
    "2-Realiza las siguientes operaciones: suma, resta, multiplicación y división.\n",
    "\n",
    "3-Imprime en pantalla el resultado de cada operación utilizando la función `print()`."
   ]
  },
  {
   "cell_type": "code",
   "execution_count": 6,
   "metadata": {},
   "outputs": [
    {
     "name": "stdout",
     "output_type": "stream",
     "text": [
      "(9+13j)\n",
      "(-1+5j)\n",
      "(-16+61j)\n",
      "(1.3658536585365855+0.7073170731707318j)\n"
     ]
    }
   ],
   "source": [
    "# Vamos a declarar 2 variables complejas:\n",
    "numero1 = 4 + 9j\n",
    "numero2 = 5 + 4j\n",
    "# Vamos a sumar las 2 variables complejas:\n",
    "print(numero1+numero2)\n",
    "# Vamos a restar las 2 variables complejas:\n",
    "print(numero1-numero2)\n",
    "# Vamos a multiplicar las 2 variables complejas:\n",
    "print(numero1*numero2)\n",
    "# Vamos a dividr las 2 variables complejas:\n",
    "print(numero1/numero2)\n",
    "\n"
   ]
  },
  {
   "cell_type": "markdown",
   "metadata": {},
   "source": [
    "### Ejercicio 2: Formateo de cadenas de texto\n",
    "\n",
    "1-Declara una variable `nombre` y asigna a ella el valor 'Juan'.\n",
    "\n",
    "2-Declara una variable `edad` y asigna a ella el valor 25.\n",
    "\n",
    "3- Declara una variable llamada `peso` y asigna a ella el valor 75.5.\n",
    "\n",
    "4-Declara una variable llamada `altura` y asigna a ella el valor 1.75.\n",
    "\n",
    "5-Imprime en pantalla el valor de cada variable utilizando la función print().\n",
    "\n",
    "6-Utiliza el formateo de cadenas de texto para imprimir en pantalla un mensaje que diga: `Hola me llamo Juan, tengo 25 años, peso 75.5 kg y mido 1.75 m`."
   ]
  },
  {
   "cell_type": "code",
   "execution_count": 2,
   "metadata": {},
   "outputs": [
    {
     "name": "stdout",
     "output_type": "stream",
     "text": [
      "Mi nombre es Juan tengo 25 años. peso 75.5 kg y mido 1.75 m'.\n",
      "None\n"
     ]
    }
   ],
   "source": [
    "nombre = \"Juan\"\n",
    "edad = 25\n",
    "peso = 75.5\n",
    "altura = 1.75\n",
    "print(print(\"Mi nombre es\", nombre, \"tengo\", edad, \"años.\", \"peso\",peso, \"kg y mido\",altura,\"m'.\"))\n"
   ]
  },
  {
   "cell_type": "markdown",
   "metadata": {},
   "source": [
    "### Ejercicio 3: Conversión de cadenas de texto a números\n",
    "\n",
    "\n",
    "1-Declara una variable `cadena` y asigna a ella el valor '10'.\n",
    "\n",
    "2-Utiliza la función type() para obtener el tipo de dato de `cadena` y asigna el resultado a una variable llamada `tipo`.\n",
    "\n",
    "3- Imprime en pantalla el valor de `tipo` utilizando la función print().\n",
    "\n",
    "4-Convierte el valor de `cadena` a entero y asigna el resultado a una variable llamada `numero`.\n",
    "\n",
    "5-Realiza la operación de incremento en `numero` y asigna el resultado a la misma variable.\n"
   ]
  },
  {
   "cell_type": "code",
   "execution_count": 1,
   "metadata": {},
   "outputs": [
    {
     "name": "stdout",
     "output_type": "stream",
     "text": [
      "<class 'int'>\n",
      "<class 'int'>\n",
      "20\n"
     ]
    }
   ],
   "source": [
    "#Asignanmos a la variable cadena el valor 10\n",
    "cadena = 10\n",
    "# Le decimos que nos imprima el tipo de variable es cadena.\n",
    "print(type(cadena))\n",
    "# Se lo asignamos a la variable tipo\n",
    "tipo = (type(cadena))\n",
    "print(tipo)\n",
    "# Cambiamos el valor cadena a numerico entero\n",
    "cadena_num = int(cadena)\n",
    "# Asignamos el valor ya siendo numero a la variable numero.\n",
    "numero = cadena_num\n",
    "# Le incrementamos y le asignamos el valor a la variable numero.\n",
    "numero+=10\n",
    "print(numero)\n",
    "\n",
    "\n",
    "\n",
    "\n",
    "\n"
   ]
  },
  {
   "cell_type": "markdown",
   "metadata": {},
   "source": [
    "### Ejercicio 4: Uso de la función input()\n",
    "\n",
    "1-Utiliza la función input() para solicitar al usuario que ingrese un número.\n",
    "\n",
    "2-Asigna el valor ingresado por el usuario a una variable llamada `numero`.\n",
    "\n",
    "3-Realiza la operación de incremento en `numero` y asigna el resultado a la misma variable.\n",
    "\n",
    "4-Imprime en pantalla el valor de numero utilizando la función print()."
   ]
  },
  {
   "cell_type": "code",
   "execution_count": null,
   "metadata": {},
   "outputs": [],
   "source": [
    "# 1. Solicitar al usuario que ingrese un número\n",
    "numero = input(\"Por favor, ingresa un número: \")\n",
    "\n",
    "# 2. Asignar el valor ingresado a una variable llamada 'numero'\n",
    "# Convertir el valor ingresado de cadena a entero\n",
    "numero = int(numero)\n",
    "\n",
    "# 3. Realizar la operación de incremento en 'numero'\n",
    "numero += 5\n",
    "\n",
    "# 4. Imprimir en pantalla el valor de 'numero'\n",
    "print(\"El valor incrementado es:\", numero)\n",
    "\n"
   ]
  }
 ],
 "metadata": {
  "kernelspec": {
   "display_name": "hackio",
   "language": "python",
   "name": "python3"
  },
  "language_info": {
   "codemirror_mode": {
    "name": "ipython",
    "version": 3
   },
   "file_extension": ".py",
   "mimetype": "text/x-python",
   "name": "python",
   "nbconvert_exporter": "python",
   "pygments_lexer": "ipython3",
   "version": "3.12.4"
  }
 },
 "nbformat": 4,
 "nbformat_minor": 2
}
