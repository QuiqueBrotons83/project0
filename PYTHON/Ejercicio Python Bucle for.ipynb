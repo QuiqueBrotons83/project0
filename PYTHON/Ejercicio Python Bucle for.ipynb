{
 "cells": [
  {
   "cell_type": "markdown",
   "metadata": {},
   "source": [
    "<div style=\"text-align: center;\">\n",
    "  <img src=\"https://github.com/Hack-io-Data/Imagenes/blob/main/01-LogosHackio/logo_celeste@4x.png?raw=true\" alt=\"logo hack(io)\" />\n",
    "</div>"
   ]
  },
  {
   "cell_type": "markdown",
   "metadata": {},
   "source": [
    "####  1. Genera una lista de números del 0 al 4 y luego imprime cada número en la lista usando un `bucle for`. "
   ]
  },
  {
   "cell_type": "code",
   "execution_count": 8,
   "metadata": {},
   "outputs": [
    {
     "name": "stdout",
     "output_type": "stream",
     "text": [
      "0\n",
      "1\n",
      "2\n",
      "3\n",
      "4\n"
     ]
    }
   ],
   "source": [
    "lista_num = range(0,5)\n",
    "\n",
    "for x in range(5):\n",
    "    print(x)\n"
   ]
  },
  {
   "cell_type": "markdown",
   "metadata": {},
   "source": [
    "#### 2. Itera sobre una lista de frutas y muestra cada fruta en mayúsculas. \n"
   ]
  },
  {
   "cell_type": "code",
   "execution_count": 9,
   "metadata": {},
   "outputs": [
    {
     "name": "stdout",
     "output_type": "stream",
     "text": [
      "MELON\n",
      "MELOCOTON\n",
      "PERA\n",
      "MANZANA\n"
     ]
    }
   ],
   "source": [
    "lista_frutas = [\"melon\",\"melocoton\",\"pera\",\"manzana\"]\n",
    "for fruta in lista_frutas:\n",
    "    print(fruta.upper())"
   ]
  },
  {
   "cell_type": "markdown",
   "metadata": {},
   "source": [
    "####  3. Genera un bucle while que imprima los números del 0 al 4. \n"
   ]
  },
  {
   "cell_type": "code",
   "execution_count": 10,
   "metadata": {},
   "outputs": [
    {
     "name": "stdout",
     "output_type": "stream",
     "text": [
      "0\n",
      "1\n",
      "2\n",
      "3\n",
      "4\n"
     ]
    }
   ],
   "source": [
    "imprime_numero = 0\n",
    "while imprime_numero <=4:\n",
    "    print(imprime_numero)\n",
    "    imprime_numero +=1"
   ]
  },
  {
   "cell_type": "markdown",
   "metadata": {},
   "source": [
    "#### 4. Genera un bucle del 0 al 9, pero que se detenga en el 5.\n"
   ]
  },
  {
   "cell_type": "code",
   "execution_count": 11,
   "metadata": {},
   "outputs": [
    {
     "name": "stdout",
     "output_type": "stream",
     "text": [
      "0\n",
      "1\n",
      "2\n",
      "3\n",
      "4\n",
      "5\n"
     ]
    }
   ],
   "source": [
    "for i in range(10):\n",
    "    if i == 6:\n",
    "        break \n",
    "    print(i)"
   ]
  },
  {
   "cell_type": "markdown",
   "metadata": {},
   "source": [
    "#### 5. Recorre los números del 0 al 9 e imprime solo los números impares."
   ]
  },
  {
   "cell_type": "code",
   "execution_count": 12,
   "metadata": {},
   "outputs": [
    {
     "name": "stdout",
     "output_type": "stream",
     "text": [
      "1\n",
      "3\n",
      "5\n",
      "7\n",
      "9\n"
     ]
    }
   ],
   "source": [
    "for i in range(10):\n",
    "    if i % 2 != 0:  \n",
    "        print(i)\n"
   ]
  },
  {
   "cell_type": "markdown",
   "metadata": {},
   "source": [
    "#### 6. Dada la lista `[10, 20, 30, 40, 50]`, calcula la suma de todos los elementos usando un bucle `for`."
   ]
  },
  {
   "cell_type": "code",
   "execution_count": 13,
   "metadata": {},
   "outputs": [
    {
     "name": "stdout",
     "output_type": "stream",
     "text": [
      "150\n"
     ]
    }
   ],
   "source": [
    "lista_sum = [10,20,30,40,50]\n",
    "suma_listas = 0\n",
    "for lista in lista_sum:\n",
    "    suma_listas +=lista\n",
    "print(suma_listas)"
   ]
  },
  {
   "cell_type": "markdown",
   "metadata": {},
   "source": [
    "#### 7. Dada la cadena `\"Hola mundo\"`, cuenta cuántas veces aparecen las vocales (`a`, `e`, `i`, `o`, `u`) usando un bucle `for`.\n"
   ]
  },
  {
   "cell_type": "code",
   "execution_count": 14,
   "metadata": {},
   "outputs": [
    {
     "name": "stdout",
     "output_type": "stream",
     "text": [
      "La vocal 'a' aparece 1 veces.\n",
      "La vocal 'e' aparece 0 veces.\n",
      "La vocal 'i' aparece 0 veces.\n",
      "La vocal 'o' aparece 2 veces.\n",
      "La vocal 'u' aparece 1 veces.\n"
     ]
    }
   ],
   "source": [
    "cadena = \"Hola mundo\"\n",
    "vocales = \"aeiou\"\n",
    "conteo_vocales = {vocal: 0 for vocal in vocales}\n",
    "for caracter in cadena.lower():  \n",
    "    if caracter in conteo_vocales:\n",
    "        conteo_vocales[caracter] += 1\n",
    "\n",
    "for vocal, conteo in conteo_vocales.items():\n",
    "    print(f\"La vocal '{vocal}' aparece {conteo} veces.\")\n"
   ]
  },
  {
   "cell_type": "markdown",
   "metadata": {},
   "source": [
    "#### 8. Dada la cadena `\"Python\"`, usa un bucle `for` para imprimir los caracteres en orden inverso (`n`, `o`, `h`, `t`, `y`, `P`).\n"
   ]
  },
  {
   "cell_type": "code",
   "execution_count": 15,
   "metadata": {},
   "outputs": [
    {
     "name": "stdout",
     "output_type": "stream",
     "text": [
      "n\n",
      "o\n",
      "h\n",
      "t\n",
      "y\n",
      "P\n"
     ]
    }
   ],
   "source": [
    "cadena = \"Python\"\n",
    "for caracter in reversed(cadena):\n",
    "    print(caracter)"
   ]
  },
  {
   "cell_type": "markdown",
   "metadata": {},
   "source": [
    "#### 9. Dada la lista `[1, 2, 3, 4, 5]`, multiplica todos sus elementos usando un bucle `for` y almacena los resultados en una lista nueva. \n"
   ]
  },
  {
   "cell_type": "code",
   "execution_count": 16,
   "metadata": {},
   "outputs": [
    {
     "name": "stdout",
     "output_type": "stream",
     "text": [
      "[1, 2, 6, 24, 120]\n"
     ]
    }
   ],
   "source": [
    "numeros = [1,2,3,4,5]\n",
    "resultados = []\n",
    "multiplicaciones = 1\n",
    "\n",
    "for numero in numeros:\n",
    "    multiplicaciones *=numero\n",
    "    resultados.append(multiplicaciones)\n",
    "    \n",
    "print(resultados)\n",
    "\n"
   ]
  },
  {
   "cell_type": "markdown",
   "metadata": {},
   "source": [
    "#### 10. Dada la lista `[1, 2, 3, 4, 5, 6, 7, 8, 9, 10]`, utiliza un bucle `for` para contar cuántos números son pares y cuántos son impares."
   ]
  },
  {
   "cell_type": "code",
   "execution_count": 17,
   "metadata": {},
   "outputs": [
    {
     "name": "stdout",
     "output_type": "stream",
     "text": [
      "Números pares: 5\n",
      "Números impares: 5\n"
     ]
    }
   ],
   "source": [
    "numeros = [1, 2, 3, 4, 5, 6, 7, 8, 9, 10]\n",
    "\n",
    "contador_pares = 0\n",
    "contador_impares = 0\n",
    "\n",
    "for numero in numeros:\n",
    "    if numero % 2 == 0:\n",
    "        contador_pares += 1  \n",
    "    else:\n",
    "        contador_impares += 1  \n",
    "\n",
    "print(f\"Números pares: {contador_pares}\")\n",
    "print(f\"Números impares: {contador_impares}\")\n"
   ]
  },
  {
   "cell_type": "markdown",
   "metadata": {},
   "source": [
    "#### 11. Escribe un programa que solicite al usuario un número entero positivo (`n`) y calcule la suma de todos los números primos menores o iguales a `n`. Utiliza un bucle `for` para iterar sobre cada número y verifica si es primo."
   ]
  },
  {
   "cell_type": "code",
   "execution_count": 18,
   "metadata": {},
   "outputs": [
    {
     "ename": "ValueError",
     "evalue": "invalid literal for int() with base 10: ''",
     "output_type": "error",
     "traceback": [
      "\u001b[1;31m---------------------------------------------------------------------------\u001b[0m",
      "\u001b[1;31mValueError\u001b[0m                                Traceback (most recent call last)",
      "Cell \u001b[1;32mIn[18], line 15\u001b[0m\n\u001b[0;32m     12\u001b[0m         i \u001b[38;5;241m+\u001b[39m\u001b[38;5;241m=\u001b[39m \u001b[38;5;241m6\u001b[39m\n\u001b[0;32m     13\u001b[0m     \u001b[38;5;28;01mreturn\u001b[39;00m \u001b[38;5;28;01mTrue\u001b[39;00m\n\u001b[1;32m---> 15\u001b[0m n \u001b[38;5;241m=\u001b[39m \u001b[38;5;28;43mint\u001b[39;49m\u001b[43m(\u001b[49m\u001b[38;5;28;43minput\u001b[39;49m\u001b[43m(\u001b[49m\u001b[38;5;124;43m\"\u001b[39;49m\u001b[38;5;124;43mIntroduce un número entero positivo: \u001b[39;49m\u001b[38;5;124;43m\"\u001b[39;49m\u001b[43m)\u001b[49m\u001b[43m)\u001b[49m\n\u001b[0;32m     17\u001b[0m suma_primos \u001b[38;5;241m=\u001b[39m \u001b[38;5;241m0\u001b[39m\n\u001b[0;32m     19\u001b[0m \u001b[38;5;28;01mfor\u001b[39;00m numero \u001b[38;5;129;01min\u001b[39;00m \u001b[38;5;28mrange\u001b[39m(\u001b[38;5;241m2\u001b[39m, n \u001b[38;5;241m+\u001b[39m \u001b[38;5;241m1\u001b[39m):\n",
      "\u001b[1;31mValueError\u001b[0m: invalid literal for int() with base 10: ''"
     ]
    }
   ],
   "source": [
    "def num_primo(num):\n",
    "    if num <= 1:\n",
    "        return False\n",
    "    if num <= 3:\n",
    "        return True\n",
    "    if num % 2 == 0 or num % 3 == 0:\n",
    "        return False\n",
    "    i = 5\n",
    "    while i * i <= num:\n",
    "        if num % i == 0 or num % (i + 2) == 0:\n",
    "            return False\n",
    "        i += 6\n",
    "    return True\n",
    "\n",
    "n = int(input(\"Introduce un número entero positivo: \"))\n",
    "\n",
    "suma_primos = 0\n",
    "\n",
    "for numero in range(2, n + 1):\n",
    "    if num_primo(numero):\n",
    "        suma_primos += numero\n",
    "\n",
    "print(f\"La suma de todos los números primos menores o iguales a {n} es: {suma_primos}\")\n"
   ]
  },
  {
   "cell_type": "markdown",
   "metadata": {},
   "source": [
    "#### 12. Escribe un programa que solicite al usuario un número entero positivo (`n`) y luego imprima un patrón de asteriscos como el siguiente ejemplo para `n = 5`:\n",
    "```\n",
    "*\n",
    "**\n",
    "***\n",
    "****\n",
    "*****\n",
    "```\n",
    "Utiliza un bucle `for` anidado para controlar la cantidad de asteriscos en cada línea."
   ]
  },
  {
   "cell_type": "code",
   "execution_count": null,
   "metadata": {},
   "outputs": [
    {
     "name": "stdout",
     "output_type": "stream",
     "text": [
      "*\n",
      "**\n",
      "***\n",
      "****\n",
      "*****\n",
      "******\n",
      "*******\n",
      "********\n",
      "*********\n",
      "**********\n",
      "***********\n",
      "************\n",
      "*************\n",
      "**************\n",
      "***************\n"
     ]
    }
   ],
   "source": [
    "n = int(input(\"Introduce un número entero positivo: \"))\n",
    "\n",
    "if n > 0:\n",
    "    for s in range(1, n + 1):\n",
    "        for p in range(s):\n",
    "            print(\"*\", end=\"\")\n",
    "        print()\n",
    "else:\n",
    "    print(\"El número introducido no es un entero positivo.\")\n"
   ]
  },
  {
   "cell_type": "markdown",
   "metadata": {},
   "source": [
    "#### 13. Dado un texto, utiliza un bucle `for` para contar cuántas veces aparece cada palabra en el texto. Ignora mayúsculas/minúsculas y los signos de puntuación."
   ]
  },
  {
   "cell_type": "code",
   "execution_count": null,
   "metadata": {},
   "outputs": [
    {
     "name": "stdout",
     "output_type": "stream",
     "text": [
      "La palabra 'esto' aparece 1 veces.\n",
      "La palabra 'es' aparece 1 veces.\n",
      "La palabra 'un' aparece 1 veces.\n",
      "La palabra 'prueba' aparece 1 veces.\n",
      "La palabra 'para' aparece 1 veces.\n",
      "La palabra 'contar' aparece 1 veces.\n",
      "La palabra 'las' aparece 1 veces.\n",
      "La palabra 'palabras' aparece 1 veces.\n",
      "La palabra 'a' aparece 1 veces.\n",
      "La palabra 'ver' aparece 1 veces.\n",
      "La palabra 'que' aparece 1 veces.\n",
      "La palabra 'tal' aparece 1 veces.\n",
      "La palabra 'me' aparece 1 veces.\n",
      "La palabra 'sale' aparece 1 veces.\n"
     ]
    }
   ],
   "source": [
    "\n",
    "texto = \"Esto es una prueba para ver cuantas palabras cuenta, el bucle for en un texto\"\n",
    "texto = texto.lower()\n",
    "palabras = texto.split()\n",
    "frecuencia_palabras = {}\n",
    "for palabra in palabras:\n",
    "    if palabra in frecuencia_palabras:\n",
    "        frecuencia_palabras[palabra] += 1\n",
    "    else:\n",
    "        frecuencia_palabras[palabra] = 1\n",
    "\n",
    "for palabra, frecuencia in frecuencia_palabras.items():\n",
    "    print(f\"La palabra '{palabra}' aparece {frecuencia} veces.\")\n",
    "\n"
   ]
  },
  {
   "cell_type": "markdown",
   "metadata": {},
   "source": [
    "#### 14. Escribe un programa que solicite al usuario dos números enteros positivos (`inicio` y `fin`, donde `inicio <= fin`) y luego calcule la suma de los números pares y la suma de los números impares en ese rango. Utiliza un bucle `for` para iterar sobre cada número y una estructura `if-else` para clasificar y sumar los números pares e impares."
   ]
  },
  {
   "cell_type": "code",
   "execution_count": 23,
   "metadata": {},
   "outputs": [
    {
     "name": "stdout",
     "output_type": "stream",
     "text": [
      "La suma de los números pares en el rango [1, 4] es: 6\n",
      "La suma de los números impares en el rango [1, 4] es: 4\n"
     ]
    }
   ],
   "source": [
    "inicio = int(input(\"Introduce el número de inicio: \"))\n",
    "fin = int(input(\"Introduce el número de fin: \"))\n",
    "\n",
    "if inicio <= fin and inicio >= 0 and fin >= 0:\n",
    "    suma_pares = 0\n",
    "    suma_impares = 0\n",
    "\n",
    "    for numero in range(inicio, fin + 1):\n",
    "        if numero % 2 == 0:\n",
    "            suma_pares += numero\n",
    "        else:\n",
    "            suma_impares += numero\n",
    "\n",
    "    print(f\"La suma de los números pares en el rango [{inicio}, {fin}] es: {suma_pares}\")\n",
    "    print(f\"La suma de los números impares en el rango [{inicio}, {fin}] es: {suma_impares}\")\n",
    "else:\n",
    "    print(\"Los valores introducidos no son válidos. Asegúrate de que inicio <= fin y ambos sean números enteros positivos.\")\n"
   ]
  },
  {
   "cell_type": "markdown",
   "metadata": {},
   "source": [
    "#### 15. Escribe un programa que solicite al usuario un número entero positivo (`n`) y luego identifique todos los números primos menores o iguales a `n`. Para cada número, imprime si es primo o no usando un bucle `for` y una estructura `if-else` para verificar la condición de primalidad."
   ]
  },
  {
   "cell_type": "code",
   "execution_count": 25,
   "metadata": {},
   "outputs": [
    {
     "name": "stdout",
     "output_type": "stream",
     "text": [
      "2 es primo.\n",
      "3 es primo.\n",
      "4 no es primo.\n",
      "5 es primo.\n"
     ]
    }
   ],
   "source": [
    "n = int(input(\"Introduce un número entero positivo: \"))\n",
    "def num_primo(num):\n",
    "    if num <= 1:\n",
    "        return False\n",
    "    for i in range(2, num):\n",
    "        if num % i == 0:\n",
    "            return False\n",
    "    return True\n",
    "\n",
    "if n > 0:\n",
    "    for numero in range(2, n + 1):\n",
    "        if num_primo(numero):\n",
    "            print(f\"{numero} es primo.\")\n",
    "        else:\n",
    "            print(f\"{numero} no es primo.\")\n",
    "else:\n",
    "    print(\"El número introducido no es un entero positivo.\")\n"
   ]
  },
  {
   "cell_type": "markdown",
   "metadata": {},
   "source": [
    "#### 16.Dada una lista de precios `[100, 200, 300, 400, 500]`, aplica un descuento del 10% a todos los precios mayores a `250`. Imprime la lista actualizada de precios después de aplicar el descuento utilizando un bucle `for`. "
   ]
  },
  {
   "cell_type": "code",
   "execution_count": 26,
   "metadata": {},
   "outputs": [
    {
     "name": "stdout",
     "output_type": "stream",
     "text": [
      "Lista actualizada de precios:\n",
      "100\n",
      "200\n",
      "270.0\n",
      "360.0\n",
      "450.0\n"
     ]
    }
   ],
   "source": [
    "precios = [100, 200, 300, 400, 500]\n",
    "\n",
    "for d in range(len(precios)):\n",
    "    if precios[d] > 250:\n",
    "        precios[d] *= 0.9  \n",
    "\n",
    "print(\"Lista actualizada de precios:\")\n",
    "for precio in precios:\n",
    "    print(precio)\n"
   ]
  },
  {
   "cell_type": "markdown",
   "metadata": {},
   "source": [
    "#### 17. Dada una lista de calificaciones de estudiantes `[85, 92, 78, 90, 88]`, clasifica a cada estudiante como \"Aprobado\" si la calificación es mayor o igual a `80` y como \"Reprobado\" si es menor a `80`. Imprime el nombre de cada estudiante junto con su estado utilizando un bucle `for` y una estructura `if-else`.\n"
   ]
  },
  {
   "cell_type": "code",
   "execution_count": 28,
   "metadata": {},
   "outputs": [
    {
     "name": "stdout",
     "output_type": "stream",
     "text": [
      "Quique: Aprobado\n",
      "Mathews: Aprobado\n",
      "Geraldin: Reprobado\n",
      "Yancha: Aprobado\n",
      "Ana: Aprobado\n"
     ]
    }
   ],
   "source": [
    "calificaciones = [85, 92, 78, 90, 88]\n",
    "\n",
    "Alumnos = [\"Quique\", \"Mathews\", \"Geraldin\", \"Yancha\", \"Ana\"]\n",
    "\n",
    "for c in range(len(calificaciones)):\n",
    "    if calificaciones[c] >= 80:\n",
    "        estado = \"Aprobado\"\n",
    "    else:\n",
    "        estado = \"Reprobado\"\n",
    "    # Imprimir el nombre del estudiante y su estado\n",
    "    print(f\"{Alumnos[c]}: {estado}\")\n"
   ]
  },
  {
   "cell_type": "markdown",
   "metadata": {},
   "source": []
  },
  {
   "cell_type": "markdown",
   "metadata": {},
   "source": [
    "\n",
    "#### 18. Escribe un programa que solicite al usuario dos números enteros positivos (`inicio`, `fin`) y otro número entero positivo (`divisor`). Encuentra el número más grande en el rango desde `inicio` hasta `fin` que sea divisible por `divisor`. Utiliza un bucle `for` y una estructura `if-else` para verificar y mantener el registro del número más grande divisible por el divisor dado.\n"
   ]
  },
  {
   "cell_type": "markdown",
   "metadata": {},
   "source": []
  },
  {
   "cell_type": "code",
   "execution_count": 30,
   "metadata": {},
   "outputs": [
    {
     "name": "stdout",
     "output_type": "stream",
     "text": [
      "El número más grande en el rango [15, 100] que es divisible por 3 es: 99\n"
     ]
    }
   ],
   "source": [
    "inicio = int(input(\"Introduce el número de inicio: \"))\n",
    "fin = int(input(\"Introduce el número de fin: \"))\n",
    "divisor = int(input(\"Introduce el divisor: \"))\n",
    "\n",
    "numero_grande = None\n",
    "\n",
    "if inicio <= fin and inicio >= 0 and fin >= 0 and divisor > 0:\n",
    "    for numero in range(fin, inicio - 1, -1):\n",
    "        if numero % divisor == 0:\n",
    "            numero_grande = numero\n",
    "            break\n",
    "    \n",
    "    if numero_grande is not None:\n",
    "        print(f\"El número más grande en el rango [{inicio}, {fin}] que es divisible por {divisor} es: {numero_grande}\")\n",
    "    else:\n",
    "        print(f\"No hay ningún número en el rango [{inicio}, {fin}] que sea divisible por {divisor}.\")\n",
    "else:\n",
    "    print(\"Los valores introducidos no son válidos. Asegúrate de que inicio <= fin y ambos sean números enteros positivos y que el divisor sea positivo.\")\n"
   ]
  }
 ],
 "metadata": {
  "kernelspec": {
   "display_name": "hackio",
   "language": "python",
   "name": "python3"
  },
  "language_info": {
   "codemirror_mode": {
    "name": "ipython",
    "version": 3
   },
   "file_extension": ".py",
   "mimetype": "text/x-python",
   "name": "python",
   "nbconvert_exporter": "python",
   "pygments_lexer": "ipython3",
   "version": "3.12.4"
  }
 },
 "nbformat": 4,
 "nbformat_minor": 2
}
